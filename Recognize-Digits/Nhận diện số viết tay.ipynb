{
 "cells": [
  {
   "cell_type": "code",
   "execution_count": null,
   "metadata": {
    "colab": {
     "base_uri": "https://localhost:8080/"
    },
    "executionInfo": {
     "elapsed": 28001,
     "status": "ok",
     "timestamp": 1669194091683,
     "user": {
      "displayName": "Thạch LH",
      "userId": "11782615633481396624"
     },
     "user_tz": -420
    },
    "id": "FSguXrGhpjwm",
    "outputId": "b447f4c5-d85a-474f-dd50-d1b083025f15",
    "pycharm": {
     "is_executing": true
    }
   },
   "outputs": [],
   "source": [
    "from google.colab import drive\n",
    "drive.mount('/content/drive')"
   ]
  },
  {
   "cell_type": "code",
   "execution_count": null,
   "metadata": {
    "collapsed": false
   },
   "outputs": [],
   "source": []
  },
  {
   "cell_type": "markdown",
   "metadata": {
    "id": "oFokoaolpsQU"
   },
   "source": [
    "thêm các thư viện cần thiết\n"
   ]
  },
  {
   "cell_type": "code",
   "execution_count": null,
   "metadata": {
    "executionInfo": {
     "elapsed": 5257,
     "status": "ok",
     "timestamp": 1669194118143,
     "user": {
      "displayName": "Thạch LH",
      "userId": "11782615633481396624"
     },
     "user_tz": -420
    },
    "id": "KfZ01phUpqQM",
    "pycharm": {
     "is_executing": true
    }
   },
   "outputs": [],
   "source": [
    "import numpy as np \n",
    "import pandas as pd \n",
    "import matplotlib.pyplot as plt\n",
    "import seaborn as sns\n",
    "import os\n",
    "from sklearn.preprocessing import MinMaxScaler\n",
    "from sklearn.model_selection import KFold\n",
    "import tensorflow as tf\n",
    "from keras.models import Sequential\n",
    "from keras.layers import Dense\n",
    "from keras.layers import Dropout\n",
    "from keras.layers import Flatten\n",
    "from keras.layers.convolutional import Conv2D\n",
    "from keras.layers.convolutional import MaxPooling2D\n",
    "# from keras.optimizers import SGD, Adam\n",
    "from keras.callbacks import ReduceLROnPlateau, EarlyStopping\n",
    "from keras import backend as K\n",
    "from keras.utils import np_utils\n",
    "from sklearn.model_selection import train_test_split\n",
    "from sklearn.metrics import confusion_matrix\n",
    "from scipy import optimize\n",
    "from keras.callbacks import ModelCheckpoint, EarlyStopping\n",
    "from keras.models import load_model\n",
    "from google.colab.patches import cv2_imshow\n",
    "import cv2\n",
    "from keras.datasets import mnist"
   ]
  },
  {
   "cell_type": "markdown",
   "metadata": {
    "id": "a2DYmKcDpybI"
   },
   "source": [
    "load data của bộ minist  https://paperswithcode.com/dataset/mnist"
   ]
  },
  {
   "cell_type": "code",
   "execution_count": 3,
   "metadata": {
    "colab": {
     "base_uri": "https://localhost:8080/"
    },
    "executionInfo": {
     "elapsed": 505,
     "status": "ok",
     "timestamp": 1669194118627,
     "user": {
      "displayName": "Thạch LH",
      "userId": "11782615633481396624"
     },
     "user_tz": -420
    },
    "id": "iKTXhUw-prPr",
    "outputId": "86e93b74-1d4c-4ed8-ee4f-36b914acb7fb"
   },
   "outputs": [
    {
     "name": "stdout",
     "output_type": "stream",
     "text": [
      "Downloading data from https://storage.googleapis.com/tensorflow/tf-keras-datasets/mnist.npz\n",
      "11490434/11490434 [==============================] - 2s 0us/step\n"
     ]
    }
   ],
   "source": [
    "(x_train, y_train), (x_test, y_test) = mnist.load_data()"
   ]
  },
  {
   "cell_type": "markdown",
   "metadata": {
    "id": "x5N4F7uTqdy6"
   },
   "source": [
    "**In random data trong bộ mnist để test**"
   ]
  },
  {
   "cell_type": "code",
   "execution_count": null,
   "metadata": {
    "colab": {
     "base_uri": "https://localhost:8080/",
     "height": 879
    },
    "executionInfo": {
     "elapsed": 2491,
     "status": "ok",
     "timestamp": 1669194121117,
     "user": {
      "displayName": "Thạch LH",
      "userId": "11782615633481396624"
     },
     "user_tz": -420
    },
    "id": "AV9y_m5BqHBZ",
    "outputId": "68946d97-634b-4e39-f2ff-362ebce85674",
    "pycharm": {
     "is_executing": true
    }
   },
   "outputs": [],
   "source": [
    "plt.figure(figsize = (15,15))\n",
    "row, colums = 4, 4\n",
    "for i in range(16):  \n",
    "    plt.subplot(colums, row, i+1)\n",
    "    plt.imshow(x_train[i].reshape(28,28),interpolation='nearest', cmap='Greys')\n",
    "    plt.title((y_train[i]))\n",
    "plt.show()"
   ]
  },
  {
   "cell_type": "markdown",
   "metadata": {
    "id": "knNjWBSDsGkH"
   },
   "source": [
    "chia x_train, y_train ra thành 2 tập x_train,y_train, x_val, y_val để tiền thành train model"
   ]
  },
  {
   "cell_type": "code",
   "execution_count": 5,
   "metadata": {
    "executionInfo": {
     "elapsed": 9,
     "status": "ok",
     "timestamp": 1669194121117,
     "user": {
      "displayName": "Thạch LH",
      "userId": "11782615633481396624"
     },
     "user_tz": -420
    },
    "id": "5k98ms_oqVSL"
   },
   "outputs": [],
   "source": [
    "(x_train, x_val, y_train, y_val) = train_test_split(x_train, y_train, test_size=0.2, stratify=y_train, random_state=42)"
   ]
  },
  {
   "cell_type": "code",
   "execution_count": 6,
   "metadata": {
    "colab": {
     "base_uri": "https://localhost:8080/"
    },
    "executionInfo": {
     "elapsed": 9,
     "status": "ok",
     "timestamp": 1669194121118,
     "user": {
      "displayName": "Thạch LH",
      "userId": "11782615633481396624"
     },
     "user_tz": -420
    },
    "id": "XqHTNSu-sDZA",
    "outputId": "14049ba0-ffe0-4492-d107-c015fde492e5"
   },
   "outputs": [
    {
     "name": "stdout",
     "output_type": "stream",
     "text": [
      "tap train co 48000 anh\n",
      "tap test co 10000 anh\n",
      "tap val co 12000 anh\n"
     ]
    }
   ],
   "source": [
    "print(\"tap train co {} anh\".format(x_train.shape[0]))\n",
    "print(\"tap test co {} anh\".format(x_test.shape[0]))\n",
    "print(\"tap val co {} anh\".format(x_val.shape[0]))"
   ]
  },
  {
   "cell_type": "markdown",
   "metadata": {
    "id": "7z90RQMAsXnT"
   },
   "source": [
    "**đồ thị số lượng các ảnh từ số 0 -> số 9 trong tập train**"
   ]
  },
  {
   "cell_type": "code",
   "execution_count": 7,
   "metadata": {
    "colab": {
     "base_uri": "https://localhost:8080/",
     "height": 337
    },
    "executionInfo": {
     "elapsed": 1599,
     "status": "ok",
     "timestamp": 1669194122710,
     "user": {
      "displayName": "Thạch LH",
      "userId": "11782615633481396624"
     },
     "user_tz": -420
    },
    "id": "lZS07XXzsQH1",
    "outputId": "806fc028-e749-4eb6-b5ab-344c6fc23d4f"
   },
   "outputs": [
    {
     "name": "stderr",
     "output_type": "stream",
     "text": [
      "/usr/local/lib/python3.7/dist-packages/seaborn/_decorators.py:43: FutureWarning: Pass the following variable as a keyword arg: x. From version 0.12, the only valid positional argument will be `data`, and passing other arguments without an explicit keyword will result in an error or misinterpretation.\n",
      "  FutureWarning\n"
     ]
    },
    {
     "data": {
      "text/plain": [
       "<matplotlib.axes._subplots.AxesSubplot at 0x7f75d3670790>"
      ]
     },
     "execution_count": 7,
     "metadata": {},
     "output_type": "execute_result"
    },
    {
     "data": {
      "image/png": "[encoded data removed]",
      "text/plain": [
       "<Figure size 432x288 with 1 Axes>"
      ]
     },
     "metadata": {
      "needs_background": "light"
     },
     "output_type": "display_data"
    }
   ],
   "source": [
    "sns.countplot(y_train)"
   ]
  },
  {
   "cell_type": "markdown",
   "metadata": {
    "id": "AlwBpHxDse5C"
   },
   "source": [
    "**đồ thị số lượng các ảnh từ số 0 -> số 9 trong tập val**"
   ]
  },
  {
   "cell_type": "code",
   "execution_count": 8,
   "metadata": {
    "colab": {
     "base_uri": "https://localhost:8080/",
     "height": 339
    },
    "executionInfo": {
     "elapsed": 800,
     "status": "ok",
     "timestamp": 1669194124167,
     "user": {
      "displayName": "Thạch LH",
      "userId": "11782615633481396624"
     },
     "user_tz": -420
    },
    "id": "5Mnk2nv7sUJN",
    "outputId": "9668470f-65eb-4cd3-e7d6-3aebfd6ac7b3"
   },
   "outputs": [
    {
     "name": "stderr",
     "output_type": "stream",
     "text": [
      "/usr/local/lib/python3.7/dist-packages/seaborn/_decorators.py:43: FutureWarning: Pass the following variable as a keyword arg: x. From version 0.12, the only valid positional argument will be `data`, and passing other arguments without an explicit keyword will result in an error or misinterpretation.\n",
      "  FutureWarning\n"
     ]
    },
    {
     "data": {
      "text/plain": [
       "<matplotlib.axes._subplots.AxesSubplot at 0x7f75d2ff0990>"
      ]
     },
     "execution_count": 8,
     "metadata": {},
     "output_type": "execute_result"
    },
    {
     "data": {
      "image/png": "[encoded data removed]",
      "text/plain": [
       "<Figure size 432x288 with 1 Axes>"
      ]
     },
     "metadata": {
      "needs_background": "light"
     },
     "output_type": "display_data"
    }
   ],
   "source": [
    "sns.countplot(y_val)"
   ]
  },
  {
   "cell_type": "markdown",
   "metadata": {
    "id": "2Ch_IqR_skLA"
   },
   "source": [
    "**đồ thị số lượng các ảnh từ số 0 -> số 9 trong tập test**"
   ]
  },
  {
   "cell_type": "code",
   "execution_count": 9,
   "metadata": {
    "colab": {
     "base_uri": "https://localhost:8080/",
     "height": 337
    },
    "executionInfo": {
     "elapsed": 6,
     "status": "ok",
     "timestamp": 1669194124167,
     "user": {
      "displayName": "Thạch LH",
      "userId": "11782615633481396624"
     },
     "user_tz": -420
    },
    "id": "1YbUoE_7sjQg",
    "outputId": "fbe52ebb-442b-40b1-826c-3ea9b221715f"
   },
   "outputs": [
    {
     "name": "stderr",
     "output_type": "stream",
     "text": [
      "/usr/local/lib/python3.7/dist-packages/seaborn/_decorators.py:43: FutureWarning: Pass the following variable as a keyword arg: x. From version 0.12, the only valid positional argument will be `data`, and passing other arguments without an explicit keyword will result in an error or misinterpretation.\n",
      "  FutureWarning\n"
     ]
    },
    {
     "data": {
      "text/plain": [
       "<matplotlib.axes._subplots.AxesSubplot at 0x7f75d2f7b910>"
      ]
     },
     "execution_count": 9,
     "metadata": {},
     "output_type": "execute_result"
    },
    {
     "data": {
      "image/png": "[encoded data removed]",
      "text/plain": [
       "<Figure size 432x288 with 1 Axes>"
      ]
     },
     "metadata": {
      "needs_background": "light"
     },
     "output_type": "display_data"
    }
   ],
   "source": [
    "sns.countplot(y_test)"
   ]
  },
  {
   "cell_type": "markdown",
   "metadata": {
    "id": "x4PfwfHCtU8h"
   },
   "source": [
    "**Chuyển đầu ra thành dạng vector**"
   ]
  },
  {
   "cell_type": "code",
   "execution_count": 10,
   "metadata": {
    "colab": {
     "base_uri": "https://localhost:8080/"
    },
    "executionInfo": {
     "elapsed": 6,
     "status": "ok",
     "timestamp": 1669194127351,
     "user": {
      "displayName": "Thạch LH",
      "userId": "11782615633481396624"
     },
     "user_tz": -420
    },
    "id": "xN2VrIhFst3x",
    "outputId": "72b74d9e-09eb-4639-f15e-2f5ba9d246de"
   },
   "outputs": [
    {
     "name": "stdout",
     "output_type": "stream",
     "text": [
      "[0. 1. 0. 0. 0. 0. 0. 0. 0. 0.]\n"
     ]
    }
   ],
   "source": [
    "y_train = tf.keras.utils.to_categorical(y_train, 10)\n",
    "y_test = tf.keras.utils.to_categorical(y_test, 10)\n",
    "y_val = tf.keras.utils.to_categorical(y_val, 10)\n",
    "print(y_train[0])"
   ]
  },
  {
   "cell_type": "code",
   "execution_count": 11,
   "metadata": {
    "colab": {
     "base_uri": "https://localhost:8080/"
    },
    "executionInfo": {
     "elapsed": 4,
     "status": "ok",
     "timestamp": 1669194127351,
     "user": {
      "displayName": "Thạch LH",
      "userId": "11782615633481396624"
     },
     "user_tz": -420
    },
    "id": "r8ZbsL_jtk2s",
    "outputId": "2d1e56b1-53fb-48d4-c324-49959b7bdd1d"
   },
   "outputs": [
    {
     "name": "stdout",
     "output_type": "stream",
     "text": [
      "(48000, 28, 28)\n",
      "(12000, 28, 28)\n"
     ]
    }
   ],
   "source": [
    "print(x_train.shape)\n",
    "print(x_val.shape)"
   ]
  },
  {
   "cell_type": "markdown",
   "metadata": {
    "id": "OovhTAjEth7-"
   },
   "source": [
    "Xây dưng model theo dạng\n",
    "\n",
    "conv2d -> maxpoooling -> conv2d -> maxpoooling -> platten -> dense(64) -> 128 -> 26\n",
    "\n",
    "Dùng hàm kích hoạt là softmax để đưa ra kết quả dưới dạng xác suất\n",
    "\n",
    "Dùng hàm mất mát categorical_crossentropy"
   ]
  },
  {
   "cell_type": "code",
   "execution_count": 12,
   "metadata": {
    "colab": {
     "base_uri": "https://localhost:8080/"
    },
    "executionInfo": {
     "elapsed": 2653,
     "status": "ok",
     "timestamp": 1669194132907,
     "user": {
      "displayName": "Thạch LH",
      "userId": "11782615633481396624"
     },
     "user_tz": -420
    },
    "id": "HpsjmK9ntYZG",
    "outputId": "d72de0ca-0c97-44bb-c5e0-b3708ddab90b"
   },
   "outputs": [
    {
     "name": "stdout",
     "output_type": "stream",
     "text": [
      "Model: \"sequential\"\n",
      "_________________________________________________________________\n",
      " Layer (type)                Output Shape              Param #   \n",
      "=================================================================\n",
      " conv2d (Conv2D)             (None, 26, 26, 32)        320       \n",
      "                                                                 \n",
      " max_pooling2d (MaxPooling2D  (None, 13, 13, 32)       0         \n",
      " )                                                               \n",
      "                                                                 \n",
      " conv2d_1 (Conv2D)           (None, 13, 13, 64)        18496     \n",
      "                                                                 \n",
      " max_pooling2d_1 (MaxPooling  (None, 6, 6, 64)         0         \n",
      " 2D)                                                             \n",
      "                                                                 \n",
      " conv2d_2 (Conv2D)           (None, 4, 4, 128)         73856     \n",
      "                                                                 \n",
      " max_pooling2d_2 (MaxPooling  (None, 2, 2, 128)        0         \n",
      " 2D)                                                             \n",
      "                                                                 \n",
      " flatten (Flatten)           (None, 512)               0         \n",
      "                                                                 \n",
      " dense (Dense)               (None, 64)                32832     \n",
      "                                                                 \n",
      " dense_1 (Dense)             (None, 128)               8320      \n",
      "                                                                 \n",
      " dense_2 (Dense)             (None, 10)                1290      \n",
      "                                                                 \n",
      "=================================================================\n",
      "Total params: 135,114\n",
      "Trainable params: 135,114\n",
      "Non-trainable params: 0\n",
      "_________________________________________________________________\n"
     ]
    }
   ],
   "source": [
    "model = Sequential()\n",
    "\n",
    "model.add(Conv2D(filters=32, kernel_size=(3, 3), activation='relu', input_shape=(28,28,1)))\n",
    "model.add(MaxPooling2D(pool_size=(2, 2), strides=2))\n",
    "\n",
    "model.add(Conv2D(filters=64, kernel_size=(3, 3), activation='relu', padding = 'same'))\n",
    "model.add(MaxPooling2D(pool_size=(2, 2), strides=2))\n",
    "\n",
    "model.add(Conv2D(filters=128, kernel_size=(3, 3), activation='relu', padding = 'valid'))\n",
    "model.add(MaxPooling2D(pool_size=(2, 2), strides=2))\n",
    "\n",
    "model.add(Flatten())\n",
    "\n",
    "model.add(Dense(64,activation =\"relu\"))\n",
    "model.add(Dense(128,activation =\"relu\"))\n",
    "\n",
    "model.add(Dense(10,activation =\"softmax\"))\n",
    "model.compile(optimizer='adam', loss='categorical_crossentropy', metrics=['accuracy'])\n",
    "model.summary()"
   ]
  },
  {
   "cell_type": "markdown",
   "metadata": {
    "id": "12Xud4huu9ol"
   },
   "source": [
    "**train model**"
   ]
  },
  {
   "cell_type": "code",
   "execution_count": 13,
   "metadata": {
    "colab": {
     "base_uri": "https://localhost:8080/"
    },
    "executionInfo": {
     "elapsed": 142634,
     "status": "ok",
     "timestamp": 1669194275534,
     "user": {
      "displayName": "Thạch LH",
      "userId": "11782615633481396624"
     },
     "user_tz": -420
    },
    "id": "Meybtlz8tsqG",
    "outputId": "b310c636-8db5-4b27-d569-fe813eb96653"
   },
   "outputs": [
    {
     "name": "stdout",
     "output_type": "stream",
     "text": [
      "Epoch 1/20\n",
      "1500/1500 [==============================] - 16s 5ms/step - loss: 0.2324 - accuracy: 0.9445 - val_loss: 0.1023 - val_accuracy: 0.9678\n",
      "Epoch 2/20\n",
      "1500/1500 [==============================] - 6s 4ms/step - loss: 0.0628 - accuracy: 0.9808 - val_loss: 0.0654 - val_accuracy: 0.9821\n",
      "Epoch 3/20\n",
      "1500/1500 [==============================] - 7s 4ms/step - loss: 0.0490 - accuracy: 0.9847 - val_loss: 0.0522 - val_accuracy: 0.9858\n",
      "Epoch 4/20\n",
      "1500/1500 [==============================] - 7s 4ms/step - loss: 0.0425 - accuracy: 0.9873 - val_loss: 0.0468 - val_accuracy: 0.9862\n",
      "Epoch 5/20\n",
      "1500/1500 [==============================] - 6s 4ms/step - loss: 0.0342 - accuracy: 0.9899 - val_loss: 0.0610 - val_accuracy: 0.9836\n",
      "Epoch 6/20\n",
      "1500/1500 [==============================] - 6s 4ms/step - loss: 0.0313 - accuracy: 0.9907 - val_loss: 0.0537 - val_accuracy: 0.9849\n",
      "Epoch 7/20\n",
      "1500/1500 [==============================] - 7s 4ms/step - loss: 0.0268 - accuracy: 0.9921 - val_loss: 0.0746 - val_accuracy: 0.9799\n",
      "Epoch 8/20\n",
      "1500/1500 [==============================] - 6s 4ms/step - loss: 0.0269 - accuracy: 0.9921 - val_loss: 0.0539 - val_accuracy: 0.9877\n",
      "Epoch 9/20\n",
      "1500/1500 [==============================] - 7s 4ms/step - loss: 0.0216 - accuracy: 0.9941 - val_loss: 0.0567 - val_accuracy: 0.9865\n",
      "Epoch 10/20\n",
      "1500/1500 [==============================] - 6s 4ms/step - loss: 0.0200 - accuracy: 0.9942 - val_loss: 0.0466 - val_accuracy: 0.9886\n",
      "Epoch 11/20\n",
      "1500/1500 [==============================] - 6s 4ms/step - loss: 0.0185 - accuracy: 0.9949 - val_loss: 0.0461 - val_accuracy: 0.9902\n",
      "Epoch 12/20\n",
      "1500/1500 [==============================] - 7s 4ms/step - loss: 0.0195 - accuracy: 0.9945 - val_loss: 0.0737 - val_accuracy: 0.9879\n",
      "Epoch 13/20\n",
      "1500/1500 [==============================] - 7s 4ms/step - loss: 0.0180 - accuracy: 0.9958 - val_loss: 0.0614 - val_accuracy: 0.9846\n",
      "Epoch 14/20\n",
      "1500/1500 [==============================] - 6s 4ms/step - loss: 0.0147 - accuracy: 0.9962 - val_loss: 0.0593 - val_accuracy: 0.9878\n",
      "Epoch 15/20\n",
      "1500/1500 [==============================] - 7s 4ms/step - loss: 0.0190 - accuracy: 0.9950 - val_loss: 0.0685 - val_accuracy: 0.9882\n",
      "Epoch 16/20\n",
      "1500/1500 [==============================] - 7s 4ms/step - loss: 0.0121 - accuracy: 0.9966 - val_loss: 0.0854 - val_accuracy: 0.9874\n",
      "Epoch 17/20\n",
      "1500/1500 [==============================] - 6s 4ms/step - loss: 0.0169 - accuracy: 0.9958 - val_loss: 0.0598 - val_accuracy: 0.9893\n",
      "Epoch 18/20\n",
      "1500/1500 [==============================] - 6s 4ms/step - loss: 0.0139 - accuracy: 0.9963 - val_loss: 0.0781 - val_accuracy: 0.9876\n",
      "Epoch 19/20\n",
      "1500/1500 [==============================] - 7s 4ms/step - loss: 0.0152 - accuracy: 0.9963 - val_loss: 0.0827 - val_accuracy: 0.9860\n",
      "Epoch 20/20\n",
      "1500/1500 [==============================] - 6s 4ms/step - loss: 0.0148 - accuracy: 0.9962 - val_loss: 0.0669 - val_accuracy: 0.9887\n"
     ]
    }
   ],
   "source": [
    "batch_size = 32\n",
    "epochs = 20\n",
    "h = model.fit(x_train,y_train,\n",
    "              batch_size = batch_size,\n",
    "              epochs = epochs,\n",
    "              verbose = 1,\n",
    "              validation_data = (x_val,y_val))"
   ]
  },
  {
   "cell_type": "markdown",
   "metadata": {
    "id": "Y8UdYREau6fr"
   },
   "source": [
    "**Đưa ra kết qua sau khi train model**"
   ]
  },
  {
   "cell_type": "code",
   "execution_count": null,
   "metadata": {
    "colab": {
     "base_uri": "https://localhost:8080/",
     "height": 439
    },
    "executionInfo": {
     "elapsed": 4403,
     "status": "ok",
     "timestamp": 1669194336338,
     "user": {
      "displayName": "Thạch LH",
      "userId": "11782615633481396624"
     },
     "user_tz": -420
    },
    "id": "p3MQ_Tcxu6Ax",
    "outputId": "f5915c56-54c8-4fb5-c9c1-6cab22eb2ae3",
    "pycharm": {
     "is_executing": true
    }
   },
   "outputs": [],
   "source": [
    "res = model.evaluate(x_test, y_test)\n",
    "print(\"hiệu suất của mô hình là : {}\".format(res[1] * 100))\n",
    "\n",
    "plt.figure(figsize=(20, 6))\n",
    "plt.subplot(121)\n",
    "plt.plot(h.history['accuracy'], label='Training')\n",
    "plt.plot(h.history['val_accuracy'], label='Validation')\n",
    "plt.title('Training and validation accuracy')\n",
    "plt.xlabel('epochs')\n",
    "plt.ylabel('accuracy')\n",
    "plt.legend()\n",
    "\n",
    "plt.subplot(122)\n",
    "plt.plot(h.history['loss'], label='Training')\n",
    "plt.plot(h.history['val_loss'], label='Validation')\n",
    "plt.title('Training and validation loss')\n",
    "plt.xlabel('epochs')\n",
    "plt.ylabel('loss')\n",
    "plt.legend()\n",
    "plt.show()"
   ]
  },
  {
   "cell_type": "markdown",
   "metadata": {
    "id": "ur-bsI8fvF11"
   },
   "source": [
    "**Lấy một số ảnh ra test**"
   ]
  },
  {
   "cell_type": "code",
   "execution_count": 20,
   "metadata": {
    "colab": {
     "base_uri": "https://localhost:8080/",
     "height": 250
    },
    "executionInfo": {
     "elapsed": 760,
     "status": "ok",
     "timestamp": 1669194460553,
     "user": {
      "displayName": "Thạch LH",
      "userId": "11782615633481396624"
     },
     "user_tz": -420
    },
    "id": "Vb14SofYvFd7",
    "outputId": "1a00c323-fe1a-4597-c2be-3f3215579cbe"
   },
   "outputs": [
    {
     "name": "stdout",
     "output_type": "stream",
     "text": [
      "1/1 [==============================] - 0s 17ms/step\n",
      "1/1 [==============================] - 0s 16ms/step\n",
      "1/1 [==============================] - 0s 17ms/step\n",
      "1/1 [==============================] - 0s 18ms/step\n",
      "1/1 [==============================] - 0s 18ms/step\n"
     ]
    },
    {
     "data": {
      "image/png": "[encoded data removed]",
      "text/plain": [
       "<Figure size 720x720 with 5 Axes>"
      ]
     },
     "metadata": {},
     "output_type": "display_data"
    }
   ],
   "source": [
    "plt.figure(figsize=(10, 10))\n",
    "for i in range(5):\n",
    "    plt.subplot(1,5,i+1)\n",
    "    plt.imshow(x_test[i], cmap='gray')\n",
    "    s = \"kết quả đúng : \" + str(np.argmax(y_test[i])) +'\\ndự đoán : ' + str(np.argmax(model.predict(x_test[i].reshape(1,28,28,1)))   )\n",
    "    s = str(s)\n",
    "    plt.title(s)\n",
    "    plt.xticks([])\n",
    "    plt.yticks([])\n",
    "plt.show()"
   ]
  },
  {
   "cell_type": "code",
   "execution_count": null,
   "metadata": {
    "id": "dH5nUSpKvLqa"
   },
   "outputs": [],
   "source": []
  }
 ],
 "metadata": {
  "accelerator": "GPU",
  "colab": {
   "authorship_tag": "ABX9TyM3KxP8tq5TzYgbHhx4KURe",
   "provenance": []
  },
  "gpuClass": "standard",
  "kernelspec": {
   "display_name": "Python 3.9.13 64-bit",
   "language": "python",
   "name": "python3"
  },
  "language_info": {
   "name": "python",
   "version": "3.9.13"
  },
  "vscode": {
   "interpreter": {
    "hash": "3448661c31c622a7cc94bc59981f13ed1244c1349945e1462bdbbea00667d9e2"
   }
  }
 },
 "nbformat": 4,
 "nbformat_minor": 0
}
